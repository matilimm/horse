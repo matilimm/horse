{
 "cells": [
  {
   "cell_type": "code",
   "execution_count": 2,
   "id": "e0788b5e-24be-459b-81b9-e80d22351f4b",
   "metadata": {},
   "outputs": [],
   "source": [
    "import pygambit as gbt"
   ]
  },
  {
   "cell_type": "code",
   "execution_count": 3,
   "id": "0628fea0-3cbe-430f-83b7-13e5d56c3be7",
   "metadata": {},
   "outputs": [
    {
     "data": {
      "text/plain": [
       "['easy', 'hard']"
      ]
     },
     "execution_count": 3,
     "metadata": {},
     "output_type": "execute_result"
    }
   ],
   "source": [
    "# define shot types\n",
    "options  = [[\"easy\", gbt.Rational(2,3), gbt.Rational(2,3)],\n",
    "            [\"hard\", gbt.Rational(1,3), gbt.Rational(1,3)]]\n",
    "names = [] # this an array of just the names for when a player choses a shot\n",
    "for i in options: names.append(i[0])\n",
    "names"
   ]
  },
  {
   "cell_type": "markdown",
   "id": "d83c91a3-4bcf-477d-9bec-2a077ca94c4f",
   "metadata": {},
   "source": [
    "Here is a game with just one round"
   ]
  },
  {
   "cell_type": "code",
   "execution_count": 4,
   "id": "bc02d6ce-58f7-4fc2-a310-fbc5c721c36b",
   "metadata": {},
   "outputs": [
    {
     "data": {
      "text/html": [
       "Game(title='round of horse')"
      ],
      "text/plain": [
       "Game(title='round of horse')"
      ]
     },
     "execution_count": 4,
     "metadata": {},
     "output_type": "execute_result"
    }
   ],
   "source": [
    "# g is one round of horse\n",
    "r = gbt.Game.new_tree(players=[\"player1\",\"player2\"], title=\"round of horse\")\n",
    "# set outcomes\n",
    "pl_one_letter = r.add_outcome([-1,0], label = \"player 1 letter\")\n",
    "pl_two_letter = r.add_outcome([0,-1], label = \"player 2 letter\")\n",
    "no_letter = r.add_outcome([0,0], label = \"no letter given\") # this one isn't used\n",
    "\n",
    "r.append_move(r.root, \"player1\", names) #p1 choses a shot\n",
    "for i in range(len(options)):\n",
    "    r.append_move(r.root.children[i], r.players.chance, [\"hit\", \"miss\"])\n",
    "    r.set_chance_probs(r.root.children[i].infoset, [options[i][1], (1 - options[i][1])]) #set the chance that p1 hits\n",
    "    # if p1 hits:\n",
    "    r.append_move(r.root.children[i].children[0], r.players.chance, [\"hit\", \"miss\"])\n",
    "    r.set_chance_probs(r.root.children[i].children[0].infoset, [options[i][2], (1 - options[i][2])])\n",
    "    r.set_outcome(r.root.children[i].children[0].children[0], pl_one_letter)\n",
    "    r.set_outcome(r.root.children[i].children[0].children[1], pl_two_letter)\n",
    "    # if p1 misses:\n",
    "    r.set_outcome(r.root.children[i].children[1], pl_one_letter)\n",
    "r"
   ]
  },
  {
   "cell_type": "code",
   "execution_count": 5,
   "id": "652fe597-c774-4768-bdbf-e029f65e04a7",
   "metadata": {
    "scrolled": true
   },
   "outputs": [
    {
     "data": {
      "text/latex": [
       "$\\left[\\left[\\left[0,1\\right]\\right],\\left[\\right]\\right]$"
      ],
      "text/plain": [
       "[[[Rational(0, 1), Rational(1, 1)]], []]"
      ]
     },
     "execution_count": 5,
     "metadata": {},
     "output_type": "execute_result"
    }
   ],
   "source": [
    "result = gbt.nash.lcp_solve(r)\n",
    "eqm = result.equilibria[0]\n",
    "eqm"
   ]
  },
  {
   "cell_type": "markdown",
   "id": "b3fc68cd-4967-4abc-9103-4769b0309d11",
   "metadata": {},
   "source": [
    "Here is a full game:"
   ]
  },
  {
   "cell_type": "code",
   "execution_count": 6,
   "id": "8570fab1-95d2-42f7-ba8a-73ca7747ed53",
   "metadata": {},
   "outputs": [
    {
     "name": "stdout",
     "output_type": "stream",
     "text": [
      "finished\n"
     ]
    }
   ],
   "source": [
    "# h is a full game of horse\n",
    "# WARNING\n",
    "# be careful running this it can take a hot miniute\n",
    "# and trying to do anything with it will likely crash jupyter\n",
    "h = gbt.Game.new_tree(players=[\"player1\",\"player2\"], title=\"full game of horse\")\n",
    "# set outcomes\n",
    "pl_one_win = h.add_outcome([1,0], label = \"player 1 wins\")\n",
    "pl_two_win = h.add_outcome([0,1], label = \"player 2 wins\")\n",
    "\n",
    "def add_round(g, node, playerup, playerdown, letters_one, letters_two):\n",
    "    g.append_move(node, playerup, names) #p1 choses a shot\n",
    "    if letters_one == 5:\n",
    "        g.set_outcome(node, pl_two_win)\n",
    "    elif letters_two == 5:\n",
    "        g.set_outcome(node, pl_one_win)\n",
    "    else:\n",
    "        for i in range(len(options)):\n",
    "            g.append_move(node.children[i], g.players.chance, [\"hit\", \"miss\"])\n",
    "            g.set_chance_probs(node.children[i].infoset, [options[i][1], (1 - options[i][1])]) #set the chance that p1 hits\n",
    "            # if p1 hits:\n",
    "            g.append_move(node.children[i].children[0], g.players.chance, [\"hit\", \"miss\"])\n",
    "            g.set_chance_probs(node.children[i].children[0].infoset, [options[i][2], (1 - options[i][2])])\n",
    "            add_round(g, node.children[i].children[0].children[1], playerdown, playerup, (letters_one+1), letters_two)\n",
    "            add_round(g, node.children[i].children[0].children[0], playerup, playerdown, (letters_one), letters_two+1)\n",
    "            # if p1 misses:\n",
    "            add_round(g, node.children[i].children[1], playerup, playerdown, (letters_one+1), letters_two)\n",
    "add_round(h, h.root, 'player1', 'player2', 0, 0)\n",
    "print('finished')"
   ]
  },
  {
   "cell_type": "code",
   "execution_count": null,
   "id": "0d7751bc-89b1-4f69-b76c-d5f13b633efc",
   "metadata": {},
   "outputs": [],
   "source": [
    "# !!!WARNING!!!\n",
    "# DO NOT run this\n",
    "# it will crash jupyter\n",
    "result = gbt.nash.lcp_solve(h)\n",
    "eqm = result.equilibria[0]\n",
    "result\n",
    "print('done')"
   ]
  }
 ],
 "metadata": {
  "kernelspec": {
   "display_name": "Python 3 (ipykernel)",
   "language": "python",
   "name": "python3"
  },
  "language_info": {
   "codemirror_mode": {
    "name": "ipython",
    "version": 3
   },
   "file_extension": ".py",
   "mimetype": "text/x-python",
   "name": "python",
   "nbconvert_exporter": "python",
   "pygments_lexer": "ipython3",
   "version": "3.13.3"
  }
 },
 "nbformat": 4,
 "nbformat_minor": 5
}
