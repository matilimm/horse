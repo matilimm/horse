{
 "cells": [
  {
   "cell_type": "code",
   "execution_count": 3,
   "id": "e0788b5e-24be-459b-81b9-e80d22351f4b",
   "metadata": {},
   "outputs": [],
   "source": [
    "import pygambit as gbt"
   ]
  },
  {
   "cell_type": "code",
   "execution_count": 42,
   "id": "0628fea0-3cbe-430f-83b7-13e5d56c3be7",
   "metadata": {},
   "outputs": [],
   "source": [
    "# define shot types\n",
    "options  = [\"easy\", \"hard\"]\n",
    "chances  = [gbt.Rational(2,3), gbt.Rational(1,3)]"
   ]
  },
  {
   "cell_type": "code",
   "execution_count": 43,
   "id": "bc02d6ce-58f7-4fc2-a310-fbc5c721c36b",
   "metadata": {},
   "outputs": [],
   "source": [
    "# g is one round of horse\n",
    "g = gbt.Game.new_tree(players=[\"player1\",\"player2\"], title=\"round of horse\")\n",
    "# set outcomes\n",
    "pl_one_letter = g.add_outcome([-1,0], label = \"player 1 letter\")\n",
    "pl_two_letter = g.add_outcome([0,-1], label = \"player 2 letter\")\n",
    "no_letter = g.add_outcome([0,0], label = \"no letter given\") # this one isn't used\n",
    "\n",
    "g.append_move(g.root, \"player1\", options) #p1 choses a shot\n",
    "for i in range(len(options)):\n",
    "    g.append_move(g.root.children[i], g.players.chance, [\"hit\", \"miss\"])\n",
    "    g.set_chance_probs(g.root.children[i].infoset, [chances[i], (1 - chances[i])]) #set the chance that p1 hits\n",
    "    # if p1 hits:\n",
    "    #g.append_move(g.root.children[i].children[0], \"player2\", options)\n",
    "    g.append_move(g.root.children[i].children[0], g.players.chance, [\"hit\", \"miss\"])\n",
    "    g.set_chance_probs(g.root.children[i].children[0].infoset, [chances[i], (1 - chances[i])])\n",
    "    g.set_outcome(g.root.children[i].children[0].children[0], pl_one_letter)\n",
    "    g.set_outcome(g.root.children[i].children[0].children[1], pl_two_letter)\n",
    "    # if p1 misses:\n",
    "    g.set_outcome(g.root.children[i].children[1], pl_one_letter)"
   ]
  },
  {
   "cell_type": "code",
   "execution_count": 44,
   "id": "652fe597-c774-4768-bdbf-e029f65e04a7",
   "metadata": {
    "scrolled": true
   },
   "outputs": [
    {
     "data": {
      "text/latex": [
       "$\\left[\\left[\\left[0,1\\right]\\right],\\left[\\right]\\right]$"
      ],
      "text/plain": [
       "[[[Rational(0, 1), Rational(1, 1)]], []]"
      ]
     },
     "execution_count": 44,
     "metadata": {},
     "output_type": "execute_result"
    }
   ],
   "source": [
    "result = gbt.nash.lcp_solve(g)\n",
    "eqm = result.equilibria[0]\n",
    "eqm\n",
    "#for i in result.equilibria[0]:\n",
    "#    print(str(i)+'\\n')"
   ]
  }
 ],
 "metadata": {
  "kernelspec": {
   "display_name": "Python 3 (ipykernel)",
   "language": "python",
   "name": "python3"
  },
  "language_info": {
   "codemirror_mode": {
    "name": "ipython",
    "version": 3
   },
   "file_extension": ".py",
   "mimetype": "text/x-python",
   "name": "python",
   "nbconvert_exporter": "python",
   "pygments_lexer": "ipython3",
   "version": "3.13.3"
  }
 },
 "nbformat": 4,
 "nbformat_minor": 5
}
