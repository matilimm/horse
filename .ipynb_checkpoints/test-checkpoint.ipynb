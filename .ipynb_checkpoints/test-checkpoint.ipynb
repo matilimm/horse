{
 "cells": [
  {
   "cell_type": "code",
   "execution_count": 1,
   "id": "96bd50cd-34fb-4ac4-b7ca-b8d7a4a7b957",
   "metadata": {},
   "outputs": [
    {
     "name": "stdout",
     "output_type": "stream",
     "text": [
      "hello w\n"
     ]
    }
   ],
   "source": [
    "print('hello w')"
   ]
  },
  {
   "cell_type": "code",
   "execution_count": 2,
   "id": "2235a23d-6048-414a-9c64-f4a308ee1014",
   "metadata": {},
   "outputs": [
    {
     "name": "stdout",
     "output_type": "stream",
     "text": [
      "4\n"
     ]
    }
   ],
   "source": [
    "print(str(2+2))"
   ]
  }
 ],
 "metadata": {
  "kernelspec": {
   "display_name": "Python 3 (ipykernel)",
   "language": "python",
   "name": "python3"
  },
  "language_info": {
   "codemirror_mode": {
    "name": "ipython",
    "version": 3
   },
   "file_extension": ".py",
   "mimetype": "text/x-python",
   "name": "python",
   "nbconvert_exporter": "python",
   "pygments_lexer": "ipython3",
   "version": "3.13.5"
  }
 },
 "nbformat": 4,
 "nbformat_minor": 5
}
