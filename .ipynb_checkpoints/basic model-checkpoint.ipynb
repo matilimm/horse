{
 "cells": [
  {
   "cell_type": "markdown",
   "id": "601b9619-cddc-4404-b60c-9811f12ad8fa",
   "metadata": {},
   "source": [
    "a simple 2 player version of the game, with the same hit proabbilities for each player"
   ]
  },
  {
   "cell_type": "code",
   "execution_count": 1,
   "id": "afbfba24-fb50-4645-aa45-31b9b89f68f7",
   "metadata": {},
   "outputs": [],
   "source": [
    "letters_1=0\n",
    "letters_2=0\n",
    "playerup=1\n",
    "import math"
   ]
  },
  {
   "cell_type": "code",
   "execution_count": 2,
   "id": "4281094f-b57e-409b-99da-1519fe8bdfca",
   "metadata": {},
   "outputs": [],
   "source": [
    "# define shot types\n",
    "s_long=0.3\n",
    "s_short=0.7"
   ]
  },
  {
   "cell_type": "code",
   "execution_count": 3,
   "id": "f83d329e-6e55-404a-ac55-974d253a64d1",
   "metadata": {},
   "outputs": [],
   "source": [
    "stratagy_one=\"s_long\"\n",
    "stratagy_two=\"s_short\""
   ]
  },
  {
   "cell_type": "code",
   "execution_count": 4,
   "id": "8efba945-7f1f-45ac-8912-d0052899780d",
   "metadata": {},
   "outputs": [
    {
     "ename": "_IncompleteInputError",
     "evalue": "incomplete input (3771938496.py, line 3)",
     "output_type": "error",
     "traceback": [
      "  \u001b[36mCell\u001b[39m\u001b[36m \u001b[39m\u001b[32mIn[4]\u001b[39m\u001b[32m, line 3\u001b[39m\n\u001b[31m    \u001b[39m\n    ^\n\u001b[31m_IncompleteInputError\u001b[39m\u001b[31m:\u001b[39m incomplete input\n"
     ]
    }
   ],
   "source": [
    "#while max(letters_1,letters_2)<5:\n",
    "    \n",
    "        "
   ]
  },
  {
   "cell_type": "code",
   "execution_count": 2,
   "id": "cc21708d-7a81-49f7-bb0e-7fa0c4e40d1f",
   "metadata": {},
   "outputs": [
    {
     "ename": "SyntaxError",
     "evalue": "invalid syntax (319355260.py, line 1)",
     "output_type": "error",
     "traceback": [
      "  \u001b[36mCell\u001b[39m\u001b[36m \u001b[39m\u001b[32mIn[2]\u001b[39m\u001b[32m, line 1\u001b[39m\n\u001b[31m    \u001b[39m\u001b[31mpip install pygambit\u001b[39m\n        ^\n\u001b[31mSyntaxError\u001b[39m\u001b[31m:\u001b[39m invalid syntax\n"
     ]
    }
   ],
   "source": [
    "import pygambit as gbt\n",
    "print(gbt.__version__)"
   ]
  },
  {
   "cell_type": "code",
   "execution_count": null,
   "id": "306b0ec3-760b-45b3-af32-3c8ac26daa2a",
   "metadata": {},
   "outputs": [],
   "source": []
  }
 ],
 "metadata": {
  "kernelspec": {
   "display_name": "Python 3 (ipykernel)",
   "language": "python",
   "name": "python3"
  },
  "language_info": {
   "codemirror_mode": {
    "name": "ipython",
    "version": 3
   },
   "file_extension": ".py",
   "mimetype": "text/x-python",
   "name": "python",
   "nbconvert_exporter": "python",
   "pygments_lexer": "ipython3",
   "version": "3.13.3"
  }
 },
 "nbformat": 4,
 "nbformat_minor": 5
}
