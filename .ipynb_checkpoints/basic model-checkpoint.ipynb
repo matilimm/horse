{
 "cells": [
  {
   "cell_type": "markdown",
   "id": "601b9619-cddc-4404-b60c-9811f12ad8fa",
   "metadata": {},
   "source": [
    "a simple 2 player version of the game, with the same hit proabbilities for each player"
   ]
  },
  {
   "cell_type": "code",
   "execution_count": 3,
   "id": "afbfba24-fb50-4645-aa45-31b9b89f68f7",
   "metadata": {},
   "outputs": [],
   "source": [
    "letters_1=0\n",
    "letters_2=0\n",
    "playerup=1\n",
    "import math"
   ]
  },
  {
   "cell_type": "code",
   "execution_count": null,
   "id": "4281094f-b57e-409b-99da-1519fe8bdfca",
   "metadata": {},
   "outputs": [],
   "source": [
    "# define shot types\n",
    "s_long=0.3\n",
    "s_short=0.7"
   ]
  },
  {
   "cell_type": "code",
   "execution_count": null,
   "id": "f83d329e-6e55-404a-ac55-974d253a64d1",
   "metadata": {},
   "outputs": [],
   "source": [
    "stratagy_one=\"s_long\"\n",
    "stratagy_two=\"s_short\""
   ]
  },
  {
   "cell_type": "code",
   "execution_count": null,
   "id": "8efba945-7f1f-45ac-8912-d0052899780d",
   "metadata": {},
   "outputs": [],
   "source": [
    "while max(letters_1,letters_2)<5:\n",
    "    if playerup==1:\n",
    "        "
   ]
  }
 ],
 "metadata": {
  "kernelspec": {
   "display_name": "Python 3 (ipykernel)",
   "language": "python",
   "name": "python3"
  },
  "language_info": {
   "codemirror_mode": {
    "name": "ipython",
    "version": 3
   },
   "file_extension": ".py",
   "mimetype": "text/x-python",
   "name": "python",
   "nbconvert_exporter": "python",
   "pygments_lexer": "ipython3",
   "version": "3.13.5"
  }
 },
 "nbformat": 4,
 "nbformat_minor": 5
}
