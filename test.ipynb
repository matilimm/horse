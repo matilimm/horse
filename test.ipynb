{
 "cells": [
  {
   "cell_type": "markdown",
   "id": "bb009788-112e-46d9-8785-82a67c917f3a",
   "metadata": {},
   "source": [
    "I'm using this notebook to test that everything is working properly"
   ]
  },
  {
   "cell_type": "code",
   "execution_count": 1,
   "id": "96bd50cd-34fb-4ac4-b7ca-b8d7a4a7b957",
   "metadata": {},
   "outputs": [
    {
     "name": "stdout",
     "output_type": "stream",
     "text": [
      "hello w\n"
     ]
    }
   ],
   "source": [
    "print('hello w')"
   ]
  },
  {
   "cell_type": "code",
   "execution_count": 2,
   "id": "2235a23d-6048-414a-9c64-f4a308ee1014",
   "metadata": {},
   "outputs": [
    {
     "name": "stdout",
     "output_type": "stream",
     "text": [
      "4\n"
     ]
    }
   ],
   "source": [
    "print(str(2+2))"
   ]
  },
  {
   "cell_type": "code",
   "execution_count": 3,
   "id": "ca40b155-59d3-482d-8dec-e4da0ab29188",
   "metadata": {},
   "outputs": [],
   "source": [
    "import numpy as np\n",
    "import nashpy as nash"
   ]
  },
  {
   "cell_type": "code",
   "execution_count": 5,
   "id": "2fd8eeed-7b6c-4eab-84c1-222a5b65c50c",
   "metadata": {},
   "outputs": [
    {
     "name": "stdout",
     "output_type": "stream",
     "text": [
      "0.0.41\n"
     ]
    }
   ],
   "source": [
    "print(nash.__version__)"
   ]
  },
  {
   "cell_type": "code",
   "execution_count": null,
   "id": "cdf9713c-c191-4329-af35-d5e4f94a57d1",
   "metadata": {},
   "outputs": [],
   "source": []
  }
 ],
 "metadata": {
  "kernelspec": {
   "display_name": "Python 3 (ipykernel)",
   "language": "python",
   "name": "python3"
  },
  "language_info": {
   "codemirror_mode": {
    "name": "ipython",
    "version": 3
   },
   "file_extension": ".py",
   "mimetype": "text/x-python",
   "name": "python",
   "nbconvert_exporter": "python",
   "pygments_lexer": "ipython3",
   "version": "3.13.3"
  }
 },
 "nbformat": 4,
 "nbformat_minor": 5
}
