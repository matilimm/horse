{
 "cells": [
  {
   "cell_type": "code",
   "execution_count": 1,
   "id": "96bd50cd-34fb-4ac4-b7ca-b8d7a4a7b957",
   "metadata": {},
   "outputs": [
    {
     "name": "stdout",
     "output_type": "stream",
     "text": [
      "hello w\n"
     ]
    }
   ],
   "source": [
    "print('hello w')"
   ]
  },
  {
   "cell_type": "code",
   "execution_count": 10,
   "id": "2235a23d-6048-414a-9c64-f4a308ee1014",
   "metadata": {},
   "outputs": [
    {
     "name": "stdout",
     "output_type": "stream",
     "text": [
      "4\n"
     ]
    }
   ],
   "source": [
    "print(str(2+2))"
   ]
  },
  {
   "cell_type": "code",
   "execution_count": 1,
   "id": "ca40b155-59d3-482d-8dec-e4da0ab29188",
   "metadata": {},
   "outputs": [],
   "source": [
    "import numpy as np\n",
    "import nashpy as nash"
   ]
  },
  {
   "cell_type": "code",
   "execution_count": 2,
   "id": "2fd8eeed-7b6c-4eab-84c1-222a5b65c50c",
   "metadata": {},
   "outputs": [
    {
     "name": "stdout",
     "output_type": "stream",
     "text": [
      "Requirement already satisfied: nashpy in /home/matilim/.local/share/pipx/venvs/jupyter/lib/python3.13/site-packages (0.0.41)\n",
      "Requirement already satisfied: numpy>=1.21.0 in /home/matilim/.local/share/pipx/venvs/jupyter/lib/python3.13/site-packages (from nashpy) (2.3.4)\n",
      "Requirement already satisfied: scipy>=0.19.0 in /home/matilim/.local/share/pipx/venvs/jupyter/lib/python3.13/site-packages (from nashpy) (1.16.2)\n",
      "Requirement already satisfied: networkx>=3.0.0 in /home/matilim/.local/share/pipx/venvs/jupyter/lib/python3.13/site-packages (from nashpy) (3.5)\n",
      "Requirement already satisfied: deprecated>=1.2.14 in /home/matilim/.local/share/pipx/venvs/jupyter/lib/python3.13/site-packages (from nashpy) (1.2.18)\n",
      "Requirement already satisfied: wrapt<2,>=1.10 in /home/matilim/.local/share/pipx/venvs/jupyter/lib/python3.13/site-packages (from deprecated>=1.2.14->nashpy) (1.17.3)\n",
      "Note: you may need to restart the kernel to use updated packages.\n"
     ]
    }
   ],
   "source": [
    "pip install nashpy"
   ]
  }
 ],
 "metadata": {
  "kernelspec": {
   "display_name": "Python 3 (ipykernel)",
   "language": "python",
   "name": "python3"
  },
  "language_info": {
   "codemirror_mode": {
    "name": "ipython",
    "version": 3
   },
   "file_extension": ".py",
   "mimetype": "text/x-python",
   "name": "python",
   "nbconvert_exporter": "python",
   "pygments_lexer": "ipython3",
   "version": "3.13.3"
  }
 },
 "nbformat": 4,
 "nbformat_minor": 5
}
